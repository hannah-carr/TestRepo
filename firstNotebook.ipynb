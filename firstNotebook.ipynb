{
    "cells": [
        {
            "cell_type": "markdown",
            "metadata": {
                "collapsed": true
            },
            "source": "<h1> My Jupyter Notebook on IBM Watson Studio</h1>"
        },
        {
            "cell_type": "markdown",
            "metadata": {},
            "source": "<b>Hannah Carr</b><br/>\nSolutions Engineer"
        },
        {
            "cell_type": "markdown",
            "metadata": {},
            "source": "<i>I am interested in data science because, I enjoy math, coding and problem solving. I love finding trends and figuring out the 'secret' to why things work the way they do.</i>"
        },
        {
            "cell_type": "markdown",
            "metadata": {},
            "source": "<h3> The following code creates a simple for loop printing 0-4</h3>"
        },
        {
            "cell_type": "code",
            "execution_count": 4,
            "metadata": {},
            "outputs": [
                {
                    "name": "stdout",
                    "output_type": "stream",
                    "text": "0\n1\n2\n3\n4\n"
                }
            ],
            "source": "for num in range(0,5):\n    print(num)"
        },
        {
            "cell_type": "markdown",
            "metadata": {},
            "source": "|Print Order||Printed Value|\n|-----------||-------------|\n|1||0|\n|2||1|\n|3||2|\n|4||3|\n|5||4|\n\n <ul>\n    <li>Create 5 Markup Cells (This is 3/5)</li>\n    <li>Use HTML to format and style those cells</li>\n    <li>Create one code cell</li>\n    <li>Create some sort of table in a markup cell</li>\n    <li>Publish to a public Git Hub repository </li>\n</ul>\nThat is all. <a href=\"https://github.com/hannah-carr/TestRepo\">Here is a link to my github repository </a>"
        }
    ],
    "metadata": {
        "kernelspec": {
            "display_name": "Python 3.8",
            "language": "python",
            "name": "python3"
        },
        "language_info": {
            "codemirror_mode": {
                "name": "ipython",
                "version": 3
            },
            "file_extension": ".py",
            "mimetype": "text/x-python",
            "name": "python",
            "nbconvert_exporter": "python",
            "pygments_lexer": "ipython3",
            "version": "3.8.11"
        }
    },
    "nbformat": 4,
    "nbformat_minor": 1
}